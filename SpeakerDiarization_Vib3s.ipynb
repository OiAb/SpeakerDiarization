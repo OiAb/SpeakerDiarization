{
  "nbformat": 4,
  "nbformat_minor": 0,
  "metadata": {
    "colab": {
      "name": "SpeakerDiarization_Vib3s.ipynb",
      "provenance": [],
      "collapsed_sections": [],
      "authorship_tag": "ABX9TyOiG0v3Q1wOzP7UlqlwEtSm",
      "include_colab_link": true
    },
    "kernelspec": {
      "name": "python3",
      "display_name": "Python 3"
    },
    "language_info": {
      "name": "python"
    }
  },
  "cells": [
    {
      "cell_type": "markdown",
      "metadata": {
        "id": "view-in-github",
        "colab_type": "text"
      },
      "source": [
        "<a href=\"https://colab.research.google.com/github/OiAb/SpeakerDiarization/blob/main/SpeakerDiarization_Vib3s.ipynb\" target=\"_parent\"><img src=\"https://colab.research.google.com/assets/colab-badge.svg\" alt=\"Open In Colab\"/></a>"
      ]
    },
    {
      "cell_type": "code",
      "execution_count": 1,
      "metadata": {
        "colab": {
          "base_uri": "https://localhost:8080/"
        },
        "id": "D_z2RLzwHDiI",
        "outputId": "4ccb7126-96a6-4a4f-9683-94d9dd27e76e"
      },
      "outputs": [
        {
          "output_type": "stream",
          "name": "stdout",
          "text": [
            "Requirement already satisfied: pafy in /usr/local/lib/python3.7/dist-packages (0.5.5)\n",
            "Requirement already satisfied: youtube-dl in /usr/local/lib/python3.7/dist-packages (2021.12.17)\n"
          ]
        }
      ],
      "source": [
        "!pip install pafy\n",
        "!pip install youtube-dl"
      ]
    },
    {
      "cell_type": "code",
      "source": [
        "import pafy \n",
        "import youtube_dl\n",
        "  \n",
        "url = \"https://www.youtube.com/watch?v=eACohWVwTOc\"\n",
        "video = pafy.new(url)\n",
        "  \n",
        "bestaudio = video.getbestaudio()\n",
        "bestaudio.download()"
      ],
      "metadata": {
        "colab": {
          "base_uri": "https://localhost:8080/"
        },
        "id": "6wiV2RWIHQ6i",
        "outputId": "09ddbe41-6548-40b5-a9da-c5e234c87966"
      },
      "execution_count": 2,
      "outputs": [
        {
          "output_type": "stream",
          "name": "stdout",
          "text": [
            "\n"
          ]
        }
      ]
    }
  ]
}